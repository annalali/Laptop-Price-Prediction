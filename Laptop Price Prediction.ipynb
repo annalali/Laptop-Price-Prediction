{
 "cells": [
  {
   "cell_type": "markdown",
   "metadata": {},
   "source": [
    "## Laptop Price Prediction by Regression Models "
   ]
  },
  {
   "cell_type": "markdown",
   "metadata": {},
   "source": [
    "# <a name='imports' >Libraries Imports</a>"
   ]
  },
  {
   "cell_type": "code",
   "execution_count": 202,
   "metadata": {},
   "outputs": [],
   "source": [
    "import numpy as np\n",
    "import pandas as pd\n",
    "import matplotlib.pyplot as plt\n",
    "from currency_converter import CurrencyConverter # currency_converter from EUR to USD\n",
    "from sqlalchemy import create_engine\n",
    "import seaborn as sns\n",
    "from sklearn.preprocessing import LabelEncoder\n",
    "from sklearn.model_selection import train_test_split # split dataset to train set & test set\n",
    "from sklearn.linear_model import LinearRegression\n",
    "from sklearn.linear_model import Lasso, LassoCV, Ridge, RidgeCV\n",
    "from sklearn.metrics import mean_squared_error, r2_score, mean_absolute_error\n",
    "#from sklearn.metrics import r2_score\n",
    "from sklearn.ensemble import RandomForestRegressor\n",
    "from sklearn.preprocessing import StandardScaler"
   ]
  },
  {
   "cell_type": "markdown",
   "metadata": {},
   "source": [
    "# <a name='LoadData' >Load Data</a>"
   ]
  },
  {
   "cell_type": "code",
   "execution_count": 203,
   "metadata": {},
   "outputs": [
    {
     "data": {
      "text/html": [
       "<div>\n",
       "<style scoped>\n",
       "    .dataframe tbody tr th:only-of-type {\n",
       "        vertical-align: middle;\n",
       "    }\n",
       "\n",
       "    .dataframe tbody tr th {\n",
       "        vertical-align: top;\n",
       "    }\n",
       "\n",
       "    .dataframe thead th {\n",
       "        text-align: right;\n",
       "    }\n",
       "</style>\n",
       "<table border=\"1\" class=\"dataframe\">\n",
       "  <thead>\n",
       "    <tr style=\"text-align: right;\">\n",
       "      <th></th>\n",
       "      <th>Unnamed: 0</th>\n",
       "      <th>laptop_ID</th>\n",
       "      <th>Company</th>\n",
       "      <th>Product</th>\n",
       "      <th>TypeName</th>\n",
       "      <th>Display</th>\n",
       "      <th>ScreenResolution</th>\n",
       "      <th>CPU</th>\n",
       "      <th>RAM</th>\n",
       "      <th>Memory</th>\n",
       "      <th>Gpu</th>\n",
       "      <th>Operating System</th>\n",
       "      <th>Weight</th>\n",
       "      <th>Price_euros</th>\n",
       "      <th>Price-USD</th>\n",
       "      <th>Unnamed: 0.1</th>\n",
       "      <th>Name</th>\n",
       "      <th>Warranty</th>\n",
       "      <th>Price</th>\n",
       "      <th>rating</th>\n",
       "    </tr>\n",
       "  </thead>\n",
       "  <tbody>\n",
       "    <tr>\n",
       "      <th>0</th>\n",
       "      <td>0</td>\n",
       "      <td>1.0</td>\n",
       "      <td>Apple</td>\n",
       "      <td>MacBook Pro</td>\n",
       "      <td>Ultrabook</td>\n",
       "      <td>13.3</td>\n",
       "      <td>IPS Panel Retina Display 2560x1600</td>\n",
       "      <td>Intel Core i5 2.3GHz</td>\n",
       "      <td>8.0</td>\n",
       "      <td>128GB SSD</td>\n",
       "      <td>Intel Iris Plus Graphics 640</td>\n",
       "      <td>mac</td>\n",
       "      <td>1.37kg</td>\n",
       "      <td>1339.69</td>\n",
       "      <td>1513.8497</td>\n",
       "      <td>NaN</td>\n",
       "      <td>NaN</td>\n",
       "      <td>NaN</td>\n",
       "      <td>NaN</td>\n",
       "      <td>NaN</td>\n",
       "    </tr>\n",
       "    <tr>\n",
       "      <th>1</th>\n",
       "      <td>1</td>\n",
       "      <td>2.0</td>\n",
       "      <td>Apple</td>\n",
       "      <td>Macbook Air</td>\n",
       "      <td>Ultrabook</td>\n",
       "      <td>13.3</td>\n",
       "      <td>1440x900</td>\n",
       "      <td>Intel Core i5 1.8GHz</td>\n",
       "      <td>8.0</td>\n",
       "      <td>128GB Flash Storage</td>\n",
       "      <td>Intel HD Graphics 6000</td>\n",
       "      <td>mac</td>\n",
       "      <td>1.34kg</td>\n",
       "      <td>898.94</td>\n",
       "      <td>1015.8022</td>\n",
       "      <td>NaN</td>\n",
       "      <td>NaN</td>\n",
       "      <td>NaN</td>\n",
       "      <td>NaN</td>\n",
       "      <td>NaN</td>\n",
       "    </tr>\n",
       "  </tbody>\n",
       "</table>\n",
       "</div>"
      ],
      "text/plain": [
       "   Unnamed: 0  laptop_ID Company      Product   TypeName  Display  \\\n",
       "0           0        1.0   Apple  MacBook Pro  Ultrabook     13.3   \n",
       "1           1        2.0   Apple  Macbook Air  Ultrabook     13.3   \n",
       "\n",
       "                     ScreenResolution                   CPU  RAM  \\\n",
       "0  IPS Panel Retina Display 2560x1600  Intel Core i5 2.3GHz  8.0   \n",
       "1                            1440x900  Intel Core i5 1.8GHz  8.0   \n",
       "\n",
       "                Memory                           Gpu Operating System  Weight  \\\n",
       "0            128GB SSD  Intel Iris Plus Graphics 640              mac  1.37kg   \n",
       "1  128GB Flash Storage        Intel HD Graphics 6000              mac  1.34kg   \n",
       "\n",
       "   Price_euros  Price-USD  Unnamed: 0.1 Name Warranty  Price  rating  \n",
       "0      1339.69  1513.8497           NaN  NaN      NaN    NaN     NaN  \n",
       "1       898.94  1015.8022           NaN  NaN      NaN    NaN     NaN  "
      ]
     },
     "execution_count": 203,
     "metadata": {},
     "output_type": "execute_result"
    }
   ],
   "source": [
    "df_Final= pd.read_csv('final_laptop.csv', encoding='latin-1')\n",
    "df_Final.head(2)"
   ]
  },
  {
   "cell_type": "code",
   "execution_count": 204,
   "metadata": {},
   "outputs": [
    {
     "data": {
      "text/plain": [
       "(1853, 20)"
      ]
     },
     "execution_count": 204,
     "metadata": {},
     "output_type": "execute_result"
    }
   ],
   "source": [
    "df_Final.shape"
   ]
  },
  {
   "cell_type": "code",
   "execution_count": 205,
   "metadata": {},
   "outputs": [
    {
     "data": {
      "text/plain": [
       "Index(['Unnamed: 0', 'laptop_ID', 'Company', 'Product', 'TypeName', 'Display',\n",
       "       'ScreenResolution', 'CPU', 'RAM', 'Memory', 'Gpu', 'Operating System',\n",
       "       'Weight', 'Price_euros', 'Price-USD', 'Unnamed: 0.1', 'Name',\n",
       "       'Warranty', 'Price', 'rating'],\n",
       "      dtype='object')"
      ]
     },
     "execution_count": 205,
     "metadata": {},
     "output_type": "execute_result"
    }
   ],
   "source": [
    "df_Final.columns"
   ]
  },
  {
   "cell_type": "markdown",
   "metadata": {},
   "source": [
    "### Droping colunams "
   ]
  },
  {
   "cell_type": "code",
   "execution_count": 206,
   "metadata": {},
   "outputs": [],
   "source": [
    "# Droping colunams\n",
    "df_Final.drop(labels= ['Unnamed: 0', 'Unnamed: 0.1', 'laptop_ID', 'Price_euros',\n",
    "                       'Price', 'Name', 'ScreenResolution', 'Gpu', 'rating'], axis=1 , inplace=True)"
   ]
  },
  {
   "cell_type": "code",
   "execution_count": 207,
   "metadata": {},
   "outputs": [
    {
     "data": {
      "text/html": [
       "<div>\n",
       "<style scoped>\n",
       "    .dataframe tbody tr th:only-of-type {\n",
       "        vertical-align: middle;\n",
       "    }\n",
       "\n",
       "    .dataframe tbody tr th {\n",
       "        vertical-align: top;\n",
       "    }\n",
       "\n",
       "    .dataframe thead th {\n",
       "        text-align: right;\n",
       "    }\n",
       "</style>\n",
       "<table border=\"1\" class=\"dataframe\">\n",
       "  <thead>\n",
       "    <tr style=\"text-align: right;\">\n",
       "      <th></th>\n",
       "      <th>Company</th>\n",
       "      <th>Product</th>\n",
       "      <th>TypeName</th>\n",
       "      <th>Display</th>\n",
       "      <th>CPU</th>\n",
       "      <th>RAM</th>\n",
       "      <th>Memory</th>\n",
       "      <th>Operating System</th>\n",
       "      <th>Weight</th>\n",
       "      <th>Price-USD</th>\n",
       "      <th>Warranty</th>\n",
       "    </tr>\n",
       "  </thead>\n",
       "  <tbody>\n",
       "    <tr>\n",
       "      <th>0</th>\n",
       "      <td>Apple</td>\n",
       "      <td>MacBook Pro</td>\n",
       "      <td>Ultrabook</td>\n",
       "      <td>13.3</td>\n",
       "      <td>Intel Core i5 2.3GHz</td>\n",
       "      <td>8.0</td>\n",
       "      <td>128GB SSD</td>\n",
       "      <td>mac</td>\n",
       "      <td>1.37kg</td>\n",
       "      <td>1513.8497</td>\n",
       "      <td>NaN</td>\n",
       "    </tr>\n",
       "    <tr>\n",
       "      <th>1</th>\n",
       "      <td>Apple</td>\n",
       "      <td>Macbook Air</td>\n",
       "      <td>Ultrabook</td>\n",
       "      <td>13.3</td>\n",
       "      <td>Intel Core i5 1.8GHz</td>\n",
       "      <td>8.0</td>\n",
       "      <td>128GB Flash Storage</td>\n",
       "      <td>mac</td>\n",
       "      <td>1.34kg</td>\n",
       "      <td>1015.8022</td>\n",
       "      <td>NaN</td>\n",
       "    </tr>\n",
       "  </tbody>\n",
       "</table>\n",
       "</div>"
      ],
      "text/plain": [
       "  Company      Product   TypeName  Display                   CPU  RAM  \\\n",
       "0   Apple  MacBook Pro  Ultrabook     13.3  Intel Core i5 2.3GHz  8.0   \n",
       "1   Apple  Macbook Air  Ultrabook     13.3  Intel Core i5 1.8GHz  8.0   \n",
       "\n",
       "                Memory Operating System  Weight  Price-USD Warranty  \n",
       "0            128GB SSD              mac  1.37kg  1513.8497      NaN  \n",
       "1  128GB Flash Storage              mac  1.34kg  1015.8022      NaN  "
      ]
     },
     "execution_count": 207,
     "metadata": {},
     "output_type": "execute_result"
    }
   ],
   "source": [
    "df_Final.head(2)"
   ]
  },
  {
   "cell_type": "code",
   "execution_count": 208,
   "metadata": {},
   "outputs": [
    {
     "data": {
      "text/plain": [
       "(1853, 11)"
      ]
     },
     "execution_count": 208,
     "metadata": {},
     "output_type": "execute_result"
    }
   ],
   "source": [
    "df_Final.shape"
   ]
  },
  {
   "cell_type": "code",
   "execution_count": 209,
   "metadata": {},
   "outputs": [
    {
     "data": {
      "text/plain": [
       "Index(['Company', 'Product', 'TypeName', 'Display', 'CPU', 'RAM', 'Memory',\n",
       "       'Operating System', 'Weight', 'Price-USD', 'Warranty'],\n",
       "      dtype='object')"
      ]
     },
     "execution_count": 209,
     "metadata": {},
     "output_type": "execute_result"
    }
   ],
   "source": [
    "df_Final.columns\n",
    "#df_Final.head(3)"
   ]
  },
  {
   "cell_type": "code",
   "execution_count": 210,
   "metadata": {},
   "outputs": [
    {
     "name": "stdout",
     "output_type": "stream",
     "text": [
      "<class 'pandas.core.frame.DataFrame'>\n",
      "RangeIndex: 1853 entries, 0 to 1852\n",
      "Data columns (total 11 columns):\n",
      " #   Column            Non-Null Count  Dtype  \n",
      "---  ------            --------------  -----  \n",
      " 0   Company           1853 non-null   object \n",
      " 1   Product           1853 non-null   object \n",
      " 2   TypeName          1303 non-null   object \n",
      " 3   Display           1853 non-null   float64\n",
      " 4   CPU               1853 non-null   object \n",
      " 5   RAM               1852 non-null   float64\n",
      " 6   Memory            1853 non-null   object \n",
      " 7   Operating System  1853 non-null   object \n",
      " 8   Weight            1303 non-null   object \n",
      " 9   Price-USD         1853 non-null   float64\n",
      " 10  Warranty          550 non-null    object \n",
      "dtypes: float64(3), object(8)\n",
      "memory usage: 159.4+ KB\n"
     ]
    }
   ],
   "source": [
    "df_Final.info()"
   ]
  },
  {
   "cell_type": "code",
   "execution_count": 211,
   "metadata": {},
   "outputs": [
    {
     "data": {
      "text/html": [
       "<div>\n",
       "<style scoped>\n",
       "    .dataframe tbody tr th:only-of-type {\n",
       "        vertical-align: middle;\n",
       "    }\n",
       "\n",
       "    .dataframe tbody tr th {\n",
       "        vertical-align: top;\n",
       "    }\n",
       "\n",
       "    .dataframe thead th {\n",
       "        text-align: right;\n",
       "    }\n",
       "</style>\n",
       "<table border=\"1\" class=\"dataframe\">\n",
       "  <thead>\n",
       "    <tr style=\"text-align: right;\">\n",
       "      <th></th>\n",
       "      <th>count</th>\n",
       "      <th>unique</th>\n",
       "      <th>top</th>\n",
       "      <th>freq</th>\n",
       "      <th>mean</th>\n",
       "      <th>std</th>\n",
       "      <th>min</th>\n",
       "      <th>25%</th>\n",
       "      <th>50%</th>\n",
       "      <th>75%</th>\n",
       "      <th>max</th>\n",
       "    </tr>\n",
       "  </thead>\n",
       "  <tbody>\n",
       "    <tr>\n",
       "      <th>Company</th>\n",
       "      <td>1853</td>\n",
       "      <td>29</td>\n",
       "      <td>Lenovo</td>\n",
       "      <td>441</td>\n",
       "      <td>NaN</td>\n",
       "      <td>NaN</td>\n",
       "      <td>NaN</td>\n",
       "      <td>NaN</td>\n",
       "      <td>NaN</td>\n",
       "      <td>NaN</td>\n",
       "      <td>NaN</td>\n",
       "    </tr>\n",
       "    <tr>\n",
       "      <th>Product</th>\n",
       "      <td>1853</td>\n",
       "      <td>749</td>\n",
       "      <td>IdeaPad Core</td>\n",
       "      <td>41</td>\n",
       "      <td>NaN</td>\n",
       "      <td>NaN</td>\n",
       "      <td>NaN</td>\n",
       "      <td>NaN</td>\n",
       "      <td>NaN</td>\n",
       "      <td>NaN</td>\n",
       "      <td>NaN</td>\n",
       "    </tr>\n",
       "    <tr>\n",
       "      <th>TypeName</th>\n",
       "      <td>1303</td>\n",
       "      <td>6</td>\n",
       "      <td>Notebook</td>\n",
       "      <td>727</td>\n",
       "      <td>NaN</td>\n",
       "      <td>NaN</td>\n",
       "      <td>NaN</td>\n",
       "      <td>NaN</td>\n",
       "      <td>NaN</td>\n",
       "      <td>NaN</td>\n",
       "      <td>NaN</td>\n",
       "    </tr>\n",
       "    <tr>\n",
       "      <th>Display</th>\n",
       "      <td>1853.0</td>\n",
       "      <td>NaN</td>\n",
       "      <td>NaN</td>\n",
       "      <td>NaN</td>\n",
       "      <td>14.925615</td>\n",
       "      <td>1.317484</td>\n",
       "      <td>10.0</td>\n",
       "      <td>14.0</td>\n",
       "      <td>15.598425</td>\n",
       "      <td>15.6</td>\n",
       "      <td>18.4</td>\n",
       "    </tr>\n",
       "    <tr>\n",
       "      <th>CPU</th>\n",
       "      <td>1853</td>\n",
       "      <td>157</td>\n",
       "      <td>Intel Core i5 7200U 2.5GHz</td>\n",
       "      <td>190</td>\n",
       "      <td>NaN</td>\n",
       "      <td>NaN</td>\n",
       "      <td>NaN</td>\n",
       "      <td>NaN</td>\n",
       "      <td>NaN</td>\n",
       "      <td>NaN</td>\n",
       "      <td>NaN</td>\n",
       "    </tr>\n",
       "    <tr>\n",
       "      <th>RAM</th>\n",
       "      <td>1852.0</td>\n",
       "      <td>NaN</td>\n",
       "      <td>NaN</td>\n",
       "      <td>NaN</td>\n",
       "      <td>8.888769</td>\n",
       "      <td>5.107017</td>\n",
       "      <td>2.0</td>\n",
       "      <td>4.0</td>\n",
       "      <td>8.0</td>\n",
       "      <td>8.0</td>\n",
       "      <td>64.0</td>\n",
       "    </tr>\n",
       "    <tr>\n",
       "      <th>Memory</th>\n",
       "      <td>1853</td>\n",
       "      <td>52</td>\n",
       "      <td>256GB SSD</td>\n",
       "      <td>412</td>\n",
       "      <td>NaN</td>\n",
       "      <td>NaN</td>\n",
       "      <td>NaN</td>\n",
       "      <td>NaN</td>\n",
       "      <td>NaN</td>\n",
       "      <td>NaN</td>\n",
       "      <td>NaN</td>\n",
       "    </tr>\n",
       "    <tr>\n",
       "      <th>Operating System</th>\n",
       "      <td>1853</td>\n",
       "      <td>12</td>\n",
       "      <td>win10</td>\n",
       "      <td>1094</td>\n",
       "      <td>NaN</td>\n",
       "      <td>NaN</td>\n",
       "      <td>NaN</td>\n",
       "      <td>NaN</td>\n",
       "      <td>NaN</td>\n",
       "      <td>NaN</td>\n",
       "      <td>NaN</td>\n",
       "    </tr>\n",
       "    <tr>\n",
       "      <th>Weight</th>\n",
       "      <td>1303</td>\n",
       "      <td>179</td>\n",
       "      <td>2.2kg</td>\n",
       "      <td>121</td>\n",
       "      <td>NaN</td>\n",
       "      <td>NaN</td>\n",
       "      <td>NaN</td>\n",
       "      <td>NaN</td>\n",
       "      <td>NaN</td>\n",
       "      <td>NaN</td>\n",
       "      <td>NaN</td>\n",
       "    </tr>\n",
       "    <tr>\n",
       "      <th>Price-USD</th>\n",
       "      <td>1853.0</td>\n",
       "      <td>NaN</td>\n",
       "      <td>NaN</td>\n",
       "      <td>NaN</td>\n",
       "      <td>1206.831666</td>\n",
       "      <td>741.619191</td>\n",
       "      <td>196.62</td>\n",
       "      <td>662.3947</td>\n",
       "      <td>1015.87</td>\n",
       "      <td>1524.37</td>\n",
       "      <td>6891.87</td>\n",
       "    </tr>\n",
       "    <tr>\n",
       "      <th>Warranty</th>\n",
       "      <td>550</td>\n",
       "      <td>37</td>\n",
       "      <td>1 Year Onsite Warranty</td>\n",
       "      <td>369</td>\n",
       "      <td>NaN</td>\n",
       "      <td>NaN</td>\n",
       "      <td>NaN</td>\n",
       "      <td>NaN</td>\n",
       "      <td>NaN</td>\n",
       "      <td>NaN</td>\n",
       "      <td>NaN</td>\n",
       "    </tr>\n",
       "  </tbody>\n",
       "</table>\n",
       "</div>"
      ],
      "text/plain": [
       "                   count unique                         top  freq  \\\n",
       "Company             1853     29                      Lenovo   441   \n",
       "Product             1853    749                IdeaPad Core    41   \n",
       "TypeName            1303      6                    Notebook   727   \n",
       "Display           1853.0    NaN                         NaN   NaN   \n",
       "CPU                 1853    157  Intel Core i5 7200U 2.5GHz   190   \n",
       "RAM               1852.0    NaN                         NaN   NaN   \n",
       "Memory              1853     52                   256GB SSD   412   \n",
       "Operating System    1853     12                       win10  1094   \n",
       "Weight              1303    179                       2.2kg   121   \n",
       "Price-USD         1853.0    NaN                         NaN   NaN   \n",
       "Warranty             550     37      1 Year Onsite Warranty   369   \n",
       "\n",
       "                         mean         std     min       25%        50%  \\\n",
       "Company                   NaN         NaN     NaN       NaN        NaN   \n",
       "Product                   NaN         NaN     NaN       NaN        NaN   \n",
       "TypeName                  NaN         NaN     NaN       NaN        NaN   \n",
       "Display             14.925615    1.317484    10.0      14.0  15.598425   \n",
       "CPU                       NaN         NaN     NaN       NaN        NaN   \n",
       "RAM                  8.888769    5.107017     2.0       4.0        8.0   \n",
       "Memory                    NaN         NaN     NaN       NaN        NaN   \n",
       "Operating System          NaN         NaN     NaN       NaN        NaN   \n",
       "Weight                    NaN         NaN     NaN       NaN        NaN   \n",
       "Price-USD         1206.831666  741.619191  196.62  662.3947    1015.87   \n",
       "Warranty                  NaN         NaN     NaN       NaN        NaN   \n",
       "\n",
       "                      75%      max  \n",
       "Company               NaN      NaN  \n",
       "Product               NaN      NaN  \n",
       "TypeName              NaN      NaN  \n",
       "Display              15.6     18.4  \n",
       "CPU                   NaN      NaN  \n",
       "RAM                   8.0     64.0  \n",
       "Memory                NaN      NaN  \n",
       "Operating System      NaN      NaN  \n",
       "Weight                NaN      NaN  \n",
       "Price-USD         1524.37  6891.87  \n",
       "Warranty              NaN      NaN  "
      ]
     },
     "execution_count": 211,
     "metadata": {},
     "output_type": "execute_result"
    }
   ],
   "source": [
    "df_Final.describe(include = 'all').T"
   ]
  },
  {
   "cell_type": "code",
   "execution_count": 212,
   "metadata": {},
   "outputs": [
    {
     "data": {
      "text/plain": [
       "<Figure size 1080x288 with 0 Axes>"
      ]
     },
     "metadata": {},
     "output_type": "display_data"
    },
    {
     "data": {
      "image/png": "[encoded data removed]",
      "text/plain": [
       "<Figure size 540x540 with 12 Axes>"
      ]
     },
     "metadata": {
      "needs_background": "light"
     },
     "output_type": "display_data"
    }
   ],
   "source": [
    "plt.figure(figsize=(15,4))\n",
    "sns.pairplot(df_Final);"
   ]
  },
  {
   "cell_type": "markdown",
   "metadata": {},
   "source": [
    "### Missing values: Check for missing data (NAN Value)"
   ]
  },
  {
   "cell_type": "code",
   "execution_count": 213,
   "metadata": {},
   "outputs": [
    {
     "data": {
      "text/plain": [
       "Warranty            1303\n",
       "TypeName             550\n",
       "Weight               550\n",
       "RAM                    1\n",
       "Company                0\n",
       "Product                0\n",
       "Display                0\n",
       "CPU                    0\n",
       "Memory                 0\n",
       "Operating System       0\n",
       "Price-USD              0\n",
       "dtype: int64"
      ]
     },
     "execution_count": 213,
     "metadata": {},
     "output_type": "execute_result"
    }
   ],
   "source": [
    "# How much of our data is missing?\n",
    "df_Final.isnull().sum().sort_values(ascending=False) \n",
    "#this to check how many missing values in the features of type object only"
   ]
  },
  {
   "cell_type": "code",
   "execution_count": 214,
   "metadata": {},
   "outputs": [
    {
     "data": {
      "text/plain": [
       "0        True\n",
       "1        True\n",
       "2        True\n",
       "3        True\n",
       "4        True\n",
       "        ...  \n",
       "1848    False\n",
       "1849    False\n",
       "1850    False\n",
       "1851    False\n",
       "1852    False\n",
       "Name: Warranty, Length: 1853, dtype: bool"
      ]
     },
     "execution_count": 214,
     "metadata": {},
     "output_type": "execute_result"
    }
   ],
   "source": [
    "#===== Warranty =====\n",
    "# Check for missing values\n",
    "df_Final.Warranty.isna()"
   ]
  },
  {
   "cell_type": "code",
   "execution_count": 215,
   "metadata": {},
   "outputs": [
    {
     "name": "stdout",
     "output_type": "stream",
     "text": [
      "0\n"
     ]
    }
   ],
   "source": [
    "# df_Final.Warranty.unique()\n",
    "# Warranty period as month\n",
    "def warr_month(x):\n",
    "    x = str(x).lower()\n",
    "    time = 0\n",
    "    if \"ne-year\" in x:\n",
    "        time = 12\n",
    "    elif \"year\" in x:\n",
    "        time = int(x.split(' ')[0])*12\n",
    "    elif \"month\" in x:\n",
    "        time = int(x.split(' ')[0])\n",
    "    return time\n",
    "df_Final.Warranty = df_Final.Warranty.apply(warr_month)\n",
    "# Convert Warranty to a number\n",
    "df_Final.Warranty = df_Final.Warranty.astype('float')\n",
    "#df_Final.head()\n",
    "# Replace missing values with actual values (mean). Imputing Missings with mean\n",
    "mean = df_Final.Warranty.mean()\n",
    "#df_Final.Warranty.value_counts()\n",
    "# The missing value in Warranty column appears as “0.0”. Replace the values \"0.0\" with mean.\n",
    "df_Final = df_Final.replace('0.0', np.nan)\n",
    "warr_isna = sum(df_Final.Warranty.isna())\n",
    "print(warr_isna)"
   ]
  },
  {
   "cell_type": "code",
   "execution_count": 216,
   "metadata": {},
   "outputs": [],
   "source": [
    "df_Final[['Warranty']]=df_Final[['Warranty']].replace(0.0,mean)"
   ]
  },
  {
   "cell_type": "code",
   "execution_count": 217,
   "metadata": {},
   "outputs": [
    {
     "name": "stdout",
     "output_type": "stream",
     "text": [
      "[ 8. 16.  4.  2. 12.  6. 32. 24. 64. nan]\n"
     ]
    }
   ],
   "source": [
    "#======== CPU ========\n",
    "#df_Final[\"CPU\"].astype('str').astype('float')\n",
    "df_Final[\"CPUSpeed\"] = df_Final[\"CPU\"].apply(lambda s: s.split()[-1]).apply(lambda s: s.split(\"G\")[0])\n",
    "#df_Final[\"CPUSpeed(GHz)\"].astype(\"int\")\n",
    "\n",
    "#======== RAM ========\n",
    "df_Final[\"RAM\"] = pd.to_numeric(df_Final[\"RAM\"])\n",
    "#df_Final.RAM.isna()\n",
    "ram_unique = df_Final.RAM.unique()\n",
    "print(ram_unique)"
   ]
  },
  {
   "cell_type": "code",
   "execution_count": 218,
   "metadata": {},
   "outputs": [
    {
     "name": "stdout",
     "output_type": "stream",
     "text": [
      "[ 8. 16.  4.  2. 12.  6. 32. 24. 64.  0.]\n"
     ]
    }
   ],
   "source": [
    "# Imputing Missings with 0. Replace the values \"nan\" with 0.\n",
    "df_Final[\"RAM\"] = df_Final.RAM.fillna(0)\n",
    "ram_unique = df_Final.RAM.unique()\n",
    "print(ram_unique)"
   ]
  },
  {
   "cell_type": "code",
   "execution_count": 219,
   "metadata": {},
   "outputs": [],
   "source": [
    "#====== Weight ======\n",
    "df_Final[\"Weight\"] = df_Final[\"Weight\"].str.replace(\"kg\", \"\")"
   ]
  },
  {
   "cell_type": "code",
   "execution_count": 220,
   "metadata": {},
   "outputs": [],
   "source": [
    "df_Final[\"Weight\"] = pd.to_numeric(df_Final[\"Weight\"])"
   ]
  },
  {
   "cell_type": "code",
   "execution_count": 221,
   "metadata": {},
   "outputs": [],
   "source": [
    "# Imputing Missings with mean\n",
    "mean = df_Final.Weight.mean()\n",
    "#df_Final[['Weight']]=df_Final[['Weight']].replace('nan',mean)\n",
    "df_Final[\"Weight\"] = df_Final[\"Weight\"].fillna(mean)"
   ]
  },
  {
   "cell_type": "code",
   "execution_count": 222,
   "metadata": {},
   "outputs": [
    {
     "data": {
      "text/plain": [
       "array([1.37      , 1.34      , 1.86      , 1.83      , 2.1       ,\n",
       "       2.04      , 1.3       , 1.6       , 2.2       , 0.92      ,\n",
       "       1.22      , 0.98      , 2.5       , 1.62      , 1.91      ,\n",
       "       2.3       , 1.35      , 1.88      , 1.89      , 1.65      ,\n",
       "       2.71      , 1.2       , 1.44      , 2.8       , 2.        ,\n",
       "       2.65      , 2.77      , 3.2       , 0.69      , 1.49      ,\n",
       "       2.4       , 2.13      , 2.43      , 1.7       , 1.4       ,\n",
       "       1.8       , 1.9       , 3.        , 1.252     , 2.7       ,\n",
       "       2.02      , 1.63      , 1.96      , 1.21      , 2.45      ,\n",
       "       1.25      , 1.5       , 2.62      , 1.38      , 1.58      ,\n",
       "       1.85      , 1.23      , 1.26      , 2.16      , 2.36      ,\n",
       "       2.05      , 1.32      , 1.75      , 0.97      , 2.9       ,\n",
       "       2.56      , 1.48      , 1.74      , 1.1       , 1.56      ,\n",
       "       2.03      , 1.05      , 4.4       , 1.29      , 1.95      ,\n",
       "       2.06      , 1.12      , 1.42      , 3.49      , 3.35      ,\n",
       "       2.23      , 4.42      , 2.69      , 2.37      , 4.7       ,\n",
       "       3.6       , 2.08      , 4.3       , 1.68      , 1.41      ,\n",
       "       4.14      , 2.18      , 2.24      , 2.67      , 2.14      ,\n",
       "       1.36      , 2.25      , 2.15      , 2.19      , 2.54      ,\n",
       "       3.42      , 1.28      , 2.33      , 1.45      , 2.79      ,\n",
       "       1.84      , 2.6       , 2.26      , 3.25      , 1.59      ,\n",
       "       1.13      , 1.78      , 1.15      , 1.27      , 1.43      ,\n",
       "       2.31      , 1.16      , 1.64      , 2.17      , 1.47      ,\n",
       "       3.78      , 1.79      , 0.91      , 1.99      , 4.33      ,\n",
       "       1.93      , 1.87      , 2.63      , 3.4       , 3.14      ,\n",
       "       1.94      , 1.24      , 4.6       , 4.5       , 2.73      ,\n",
       "       1.39      , 2.29      , 2.59      , 2.94      , 1.14      ,\n",
       "       3.8       , 3.31      , 1.09      , 3.21      , 1.19      ,\n",
       "       1.98      , 1.17      , 4.36      , 1.71      , 2.32      ,\n",
       "       4.2       , 1.55      , 0.81      , 1.18      , 2.72      ,\n",
       "       1.31      , 3.74      , 1.76      , 1.54      , 2.83      ,\n",
       "       2.07      , 2.38      , 3.58      , 1.08      , 2.75      ,\n",
       "       2.99      , 1.11      , 2.09      , 4.        , 0.99      ,\n",
       "       3.52      , 2.591     , 2.21      , 3.3       , 2.191     ,\n",
       "       2.34      , 2.03873369])"
      ]
     },
     "execution_count": 222,
     "metadata": {},
     "output_type": "execute_result"
    }
   ],
   "source": [
    "df_Final.Weight.unique()"
   ]
  },
  {
   "cell_type": "code",
   "execution_count": 223,
   "metadata": {},
   "outputs": [
    {
     "name": "stdout",
     "output_type": "stream",
     "text": [
      "<class 'pandas.core.frame.DataFrame'>\n",
      "RangeIndex: 1853 entries, 0 to 1852\n",
      "Data columns (total 12 columns):\n",
      " #   Column            Non-Null Count  Dtype  \n",
      "---  ------            --------------  -----  \n",
      " 0   Company           1853 non-null   object \n",
      " 1   Product           1853 non-null   object \n",
      " 2   TypeName          1303 non-null   object \n",
      " 3   Display           1853 non-null   float64\n",
      " 4   CPU               1853 non-null   object \n",
      " 5   RAM               1853 non-null   float64\n",
      " 6   Memory            1853 non-null   object \n",
      " 7   Operating System  1853 non-null   object \n",
      " 8   Weight            1853 non-null   float64\n",
      " 9   Price-USD         1853 non-null   float64\n",
      " 10  Warranty          1853 non-null   float64\n",
      " 11  CPUSpeed          1853 non-null   object \n",
      "dtypes: float64(5), object(7)\n",
      "memory usage: 173.8+ KB\n"
     ]
    }
   ],
   "source": [
    "df_Final.info() "
   ]
  },
  {
   "cell_type": "code",
   "execution_count": 224,
   "metadata": {},
   "outputs": [
    {
     "data": {
      "text/html": [
       "<div>\n",
       "<style scoped>\n",
       "    .dataframe tbody tr th:only-of-type {\n",
       "        vertical-align: middle;\n",
       "    }\n",
       "\n",
       "    .dataframe tbody tr th {\n",
       "        vertical-align: top;\n",
       "    }\n",
       "\n",
       "    .dataframe thead th {\n",
       "        text-align: right;\n",
       "    }\n",
       "</style>\n",
       "<table border=\"1\" class=\"dataframe\">\n",
       "  <thead>\n",
       "    <tr style=\"text-align: right;\">\n",
       "      <th></th>\n",
       "      <th>Company</th>\n",
       "      <th>Product</th>\n",
       "      <th>TypeName</th>\n",
       "      <th>Display</th>\n",
       "      <th>CPU</th>\n",
       "      <th>RAM</th>\n",
       "      <th>Memory</th>\n",
       "      <th>Operating System</th>\n",
       "      <th>Weight</th>\n",
       "      <th>Price-USD</th>\n",
       "      <th>Warranty</th>\n",
       "      <th>CPUSpeed</th>\n",
       "    </tr>\n",
       "  </thead>\n",
       "  <tbody>\n",
       "    <tr>\n",
       "      <th>0</th>\n",
       "      <td>Apple</td>\n",
       "      <td>MacBook Pro</td>\n",
       "      <td>Ultrabook</td>\n",
       "      <td>13.3</td>\n",
       "      <td>Intel Core i5 2.3GHz</td>\n",
       "      <td>8.0</td>\n",
       "      <td>128GB SSD</td>\n",
       "      <td>mac</td>\n",
       "      <td>1.37</td>\n",
       "      <td>1513.8497</td>\n",
       "      <td>4.235294</td>\n",
       "      <td>2.3</td>\n",
       "    </tr>\n",
       "    <tr>\n",
       "      <th>1</th>\n",
       "      <td>Apple</td>\n",
       "      <td>Macbook Air</td>\n",
       "      <td>Ultrabook</td>\n",
       "      <td>13.3</td>\n",
       "      <td>Intel Core i5 1.8GHz</td>\n",
       "      <td>8.0</td>\n",
       "      <td>128GB Flash Storage</td>\n",
       "      <td>mac</td>\n",
       "      <td>1.34</td>\n",
       "      <td>1015.8022</td>\n",
       "      <td>4.235294</td>\n",
       "      <td>1.8</td>\n",
       "    </tr>\n",
       "    <tr>\n",
       "      <th>2</th>\n",
       "      <td>HP</td>\n",
       "      <td>250 G6</td>\n",
       "      <td>Notebook</td>\n",
       "      <td>15.6</td>\n",
       "      <td>Intel Core i5 7200U 2.5GHz</td>\n",
       "      <td>8.0</td>\n",
       "      <td>256GB SSD</td>\n",
       "      <td>No OS</td>\n",
       "      <td>1.86</td>\n",
       "      <td>649.7500</td>\n",
       "      <td>4.235294</td>\n",
       "      <td>2.5</td>\n",
       "    </tr>\n",
       "    <tr>\n",
       "      <th>3</th>\n",
       "      <td>Apple</td>\n",
       "      <td>MacBook Pro</td>\n",
       "      <td>Ultrabook</td>\n",
       "      <td>15.4</td>\n",
       "      <td>Intel Core i7 2.7GHz</td>\n",
       "      <td>16.0</td>\n",
       "      <td>512GB SSD</td>\n",
       "      <td>mac</td>\n",
       "      <td>1.83</td>\n",
       "      <td>2867.3185</td>\n",
       "      <td>4.235294</td>\n",
       "      <td>2.7</td>\n",
       "    </tr>\n",
       "    <tr>\n",
       "      <th>4</th>\n",
       "      <td>Apple</td>\n",
       "      <td>MacBook Pro</td>\n",
       "      <td>Ultrabook</td>\n",
       "      <td>13.3</td>\n",
       "      <td>Intel Core i5 3.1GHz</td>\n",
       "      <td>8.0</td>\n",
       "      <td>256GB SSD</td>\n",
       "      <td>mac</td>\n",
       "      <td>1.37</td>\n",
       "      <td>2038.0680</td>\n",
       "      <td>4.235294</td>\n",
       "      <td>3.1</td>\n",
       "    </tr>\n",
       "  </tbody>\n",
       "</table>\n",
       "</div>"
      ],
      "text/plain": [
       "  Company      Product   TypeName  Display                         CPU   RAM  \\\n",
       "0   Apple  MacBook Pro  Ultrabook     13.3        Intel Core i5 2.3GHz   8.0   \n",
       "1   Apple  Macbook Air  Ultrabook     13.3        Intel Core i5 1.8GHz   8.0   \n",
       "2      HP       250 G6   Notebook     15.6  Intel Core i5 7200U 2.5GHz   8.0   \n",
       "3   Apple  MacBook Pro  Ultrabook     15.4        Intel Core i7 2.7GHz  16.0   \n",
       "4   Apple  MacBook Pro  Ultrabook     13.3        Intel Core i5 3.1GHz   8.0   \n",
       "\n",
       "                Memory Operating System  Weight  Price-USD  Warranty CPUSpeed  \n",
       "0            128GB SSD              mac    1.37  1513.8497  4.235294      2.3  \n",
       "1  128GB Flash Storage              mac    1.34  1015.8022  4.235294      1.8  \n",
       "2            256GB SSD            No OS    1.86   649.7500  4.235294      2.5  \n",
       "3            512GB SSD              mac    1.83  2867.3185  4.235294      2.7  \n",
       "4            256GB SSD              mac    1.37  2038.0680  4.235294      3.1  "
      ]
     },
     "execution_count": 224,
     "metadata": {},
     "output_type": "execute_result"
    }
   ],
   "source": [
    "df_Final.head()"
   ]
  },
  {
   "cell_type": "markdown",
   "metadata": {},
   "source": [
    "### Check for Duplicates or unnecessary data "
   ]
  },
  {
   "cell_type": "code",
   "execution_count": 225,
   "metadata": {
    "scrolled": true
   },
   "outputs": [
    {
     "data": {
      "text/plain": [
       "36"
      ]
     },
     "execution_count": 225,
     "metadata": {},
     "output_type": "execute_result"
    }
   ],
   "source": [
    "# The number of duplicates \n",
    "df_Final.duplicated(subset=None, keep='first').sum()"
   ]
  },
  {
   "cell_type": "code",
   "execution_count": 226,
   "metadata": {},
   "outputs": [
    {
     "data": {
      "text/plain": [
       "1817"
      ]
     },
     "execution_count": 226,
     "metadata": {},
     "output_type": "execute_result"
    }
   ],
   "source": [
    "df_Final.drop_duplicates()\n",
    "# the number of non-duplicates \n",
    "(~df_Final.duplicated()).sum()"
   ]
  },
  {
   "cell_type": "markdown",
   "metadata": {},
   "source": [
    "### Outliers "
   ]
  },
  {
   "cell_type": "code",
   "execution_count": 227,
   "metadata": {},
   "outputs": [
    {
     "data": {
      "image/png": "[encoded data removed]",
      "text/plain": [
       "<Figure size 1080x288 with 1 Axes>"
      ]
     },
     "metadata": {
      "needs_background": "light"
     },
     "output_type": "display_data"
    }
   ],
   "source": [
    "#import seaborn as sns\n",
    "# Using Boxplots to visualize numeric data for check from Outlires value. \n",
    "plt.figure(figsize=(15,4))\n",
    "sns.boxplot(data=df_Final[['Company', 'Product', 'TypeName', 'Display', 'CPU', 'RAM', 'Memory',\n",
    "       'Operating System', 'Weight', 'Price-USD', 'Warranty']], palette=\"Blues\")\n",
    "plt.title('Outlires', color=\"darkred\", fontsize= 18)\n",
    "plt.show()\n"
   ]
  },
  {
   "cell_type": "markdown",
   "metadata": {},
   "source": [
    "### EDA"
   ]
  },
  {
   "cell_type": "code",
   "execution_count": 228,
   "metadata": {},
   "outputs": [
    {
     "data": {
      "image/png": "[encoded data removed]",
      "text/plain": [
       "<Figure size 720x864 with 2 Axes>"
      ]
     },
     "metadata": {
      "needs_background": "light"
     },
     "output_type": "display_data"
    }
   ],
   "source": [
    "fig = plt.figure(figsize=(10,12))\n",
    "ax0 = fig.add_subplot(2,1,1)\n",
    "sns.histplot(x = \"Price-USD\", data=df_Final, bins=70, ax=ax0)\n",
    "ax0.set_title(\"Price Distribution\", fontdict={\"color\":\"darkred\",\"fontsize\":20})\n",
    "ax0.axvline(x = df_Final[\"Price-USD\"].mean(), ls=\"--\", color=\"orange\", label=\"Mean\")\n",
    "ax0.axvline(x = df_Final[\"Price-USD\"].median(), ls=\"--\", color=\"red\", label=\"Median\")\n",
    "ax0.legend();\n",
    "\n",
    "label_dict = {\"color\":\"grey\",\"fontsize\":14}\n",
    "title_dict = {\"color\":\"darkred\",\"fontsize\":18}\n",
    "\n",
    "ax0 = fig.add_subplot(2,1,2);\n",
    "ax0.set_title(\"Price Vs Screen Size\",fontdict=title_dict)\n",
    "plt.xticks(rotation=90)\n",
    "sns.boxplot(x=\"Display\",y=\"Price-USD\", data=df_Final,ax=ax0,palette=\"Blues\")\n",
    "ax0.set_ylabel(\"Price (USD)\",fontdict=label_dict)\n",
    "ax0.set_xlabel(\"Screen Size (Inches)\",fontdict=label_dict)\n",
    "\n",
    "plt.tight_layout()"
   ]
  },
  {
   "cell_type": "markdown",
   "metadata": {},
   "source": [
    "### Label Encoder "
   ]
  },
  {
   "cell_type": "code",
   "execution_count": 229,
   "metadata": {},
   "outputs": [
    {
     "data": {
      "text/plain": [
       "Index(['Company', 'Product', 'TypeName', 'Display', 'CPU', 'RAM', 'Memory',\n",
       "       'Operating System', 'Weight', 'Price-USD', 'Warranty', 'CPUSpeed'],\n",
       "      dtype='object')"
      ]
     },
     "execution_count": 229,
     "metadata": {},
     "output_type": "execute_result"
    }
   ],
   "source": [
    "df_Final.columns"
   ]
  },
  {
   "cell_type": "code",
   "execution_count": 230,
   "metadata": {},
   "outputs": [],
   "source": [
    "lr=LabelEncoder()"
   ]
  },
  {
   "cell_type": "code",
   "execution_count": 231,
   "metadata": {},
   "outputs": [],
   "source": [
    "df_Final['Company']=lr.fit_transform(df_Final['Company'])\n",
    "df_Final['Product']=lr.fit_transform(df_Final['Product'])\n",
    "df_Final['TypeName']= df_Final['TypeName'].astype(str) \n",
    "df_Final['TypeName']=lr.fit_transform(df_Final['TypeName'])\n",
    "df_Final['Display']=lr.fit_transform(df_Final['Display'])\n",
    "df_Final['CPU']=lr.fit_transform(df_Final['CPU'])\n",
    "df_Final['RAM']=lr.fit_transform(df_Final['RAM'])\n",
    "df_Final['Memory']=lr.fit_transform(df_Final['Memory'])\n",
    "df_Final['Operating System']=lr.fit_transform(df_Final['Operating System'])\n",
    "#df_Final['Price-USD']=lr.fit_transform(df_Final['Price-USD'])\n",
    "df_Final['Warranty']=lr.fit_transform(df_Final['Warranty'])\n",
    "df_Final['Weight']=lr.fit_transform(df_Final['Weight'])"
   ]
  },
  {
   "cell_type": "code",
   "execution_count": 232,
   "metadata": {},
   "outputs": [
    {
     "data": {
      "text/html": [
       "<div>\n",
       "<style scoped>\n",
       "    .dataframe tbody tr th:only-of-type {\n",
       "        vertical-align: middle;\n",
       "    }\n",
       "\n",
       "    .dataframe tbody tr th {\n",
       "        vertical-align: top;\n",
       "    }\n",
       "\n",
       "    .dataframe thead th {\n",
       "        text-align: right;\n",
       "    }\n",
       "</style>\n",
       "<table border=\"1\" class=\"dataframe\">\n",
       "  <thead>\n",
       "    <tr style=\"text-align: right;\">\n",
       "      <th></th>\n",
       "      <th>Company</th>\n",
       "      <th>Product</th>\n",
       "      <th>TypeName</th>\n",
       "      <th>Display</th>\n",
       "      <th>CPU</th>\n",
       "      <th>RAM</th>\n",
       "      <th>Memory</th>\n",
       "      <th>Operating System</th>\n",
       "      <th>Weight</th>\n",
       "      <th>Price-USD</th>\n",
       "      <th>Warranty</th>\n",
       "      <th>CPUSpeed</th>\n",
       "    </tr>\n",
       "  </thead>\n",
       "  <tbody>\n",
       "    <tr>\n",
       "      <th>0</th>\n",
       "      <td>4</td>\n",
       "      <td>370</td>\n",
       "      <td>4</td>\n",
       "      <td>13</td>\n",
       "      <td>87</td>\n",
       "      <td>4</td>\n",
       "      <td>12</td>\n",
       "      <td>8</td>\n",
       "      <td>37</td>\n",
       "      <td>1513.8497</td>\n",
       "      <td>0</td>\n",
       "      <td>2.3</td>\n",
       "    </tr>\n",
       "    <tr>\n",
       "      <th>1</th>\n",
       "      <td>4</td>\n",
       "      <td>371</td>\n",
       "      <td>4</td>\n",
       "      <td>13</td>\n",
       "      <td>85</td>\n",
       "      <td>4</td>\n",
       "      <td>10</td>\n",
       "      <td>8</td>\n",
       "      <td>34</td>\n",
       "      <td>1015.8022</td>\n",
       "      <td>0</td>\n",
       "      <td>1.8</td>\n",
       "    </tr>\n",
       "    <tr>\n",
       "      <th>2</th>\n",
       "      <td>12</td>\n",
       "      <td>60</td>\n",
       "      <td>3</td>\n",
       "      <td>24</td>\n",
       "      <td>96</td>\n",
       "      <td>4</td>\n",
       "      <td>25</td>\n",
       "      <td>5</td>\n",
       "      <td>72</td>\n",
       "      <td>649.7500</td>\n",
       "      <td>0</td>\n",
       "      <td>2.5</td>\n",
       "    </tr>\n",
       "    <tr>\n",
       "      <th>3</th>\n",
       "      <td>4</td>\n",
       "      <td>370</td>\n",
       "      <td>4</td>\n",
       "      <td>22</td>\n",
       "      <td>112</td>\n",
       "      <td>6</td>\n",
       "      <td>41</td>\n",
       "      <td>8</td>\n",
       "      <td>69</td>\n",
       "      <td>2867.3185</td>\n",
       "      <td>0</td>\n",
       "      <td>2.7</td>\n",
       "    </tr>\n",
       "    <tr>\n",
       "      <th>4</th>\n",
       "      <td>4</td>\n",
       "      <td>370</td>\n",
       "      <td>4</td>\n",
       "      <td>13</td>\n",
       "      <td>89</td>\n",
       "      <td>4</td>\n",
       "      <td>25</td>\n",
       "      <td>8</td>\n",
       "      <td>37</td>\n",
       "      <td>2038.0680</td>\n",
       "      <td>0</td>\n",
       "      <td>3.1</td>\n",
       "    </tr>\n",
       "  </tbody>\n",
       "</table>\n",
       "</div>"
      ],
      "text/plain": [
       "   Company  Product  TypeName  Display  CPU  RAM  Memory  Operating System  \\\n",
       "0        4      370         4       13   87    4      12                 8   \n",
       "1        4      371         4       13   85    4      10                 8   \n",
       "2       12       60         3       24   96    4      25                 5   \n",
       "3        4      370         4       22  112    6      41                 8   \n",
       "4        4      370         4       13   89    4      25                 8   \n",
       "\n",
       "   Weight  Price-USD  Warranty CPUSpeed  \n",
       "0      37  1513.8497         0      2.3  \n",
       "1      34  1015.8022         0      1.8  \n",
       "2      72   649.7500         0      2.5  \n",
       "3      69  2867.3185         0      2.7  \n",
       "4      37  2038.0680         0      3.1  "
      ]
     },
     "execution_count": 232,
     "metadata": {},
     "output_type": "execute_result"
    }
   ],
   "source": [
    "df_Final.head()"
   ]
  },
  {
   "cell_type": "code",
   "execution_count": 233,
   "metadata": {},
   "outputs": [
    {
     "data": {
      "image/png": "[encoded data removed]",
      "text/plain": [
       "<Figure size 720x432 with 2 Axes>"
      ]
     },
     "metadata": {
      "needs_background": "light"
     },
     "output_type": "display_data"
    }
   ],
   "source": [
    "plt.figure(figsize=(10,6))\n",
    "corr=df_Final.corr()\n",
    "sns.heatmap(corr,annot=True,cmap= \"YlGnBu\"); # \"BuGn\""
   ]
  },
  {
   "cell_type": "markdown",
   "metadata": {},
   "source": [
    "### Training and Testing "
   ]
  },
  {
   "cell_type": "code",
   "execution_count": 234,
   "metadata": {},
   "outputs": [],
   "source": [
    "df_Final.drop(\"CPUSpeed\", axis = 1, inplace = True)"
   ]
  },
  {
   "cell_type": "code",
   "execution_count": 235,
   "metadata": {},
   "outputs": [],
   "source": [
    "#df_Final.isna().sum()"
   ]
  },
  {
   "cell_type": "code",
   "execution_count": 236,
   "metadata": {},
   "outputs": [
    {
     "data": {
      "text/plain": [
       "((1482, 10), (371, 10), (1482,), (371,))"
      ]
     },
     "execution_count": 236,
     "metadata": {},
     "output_type": "execute_result"
    }
   ],
   "source": [
    "x = df_Final.drop(['Price-USD'], axis=1) \n",
    "y = df_Final['Price-USD']\n",
    "\n",
    "x_train,x_test,y_train,y_test = train_test_split(x,y,test_size=0.2,random_state=42)\n",
    "x_train.shape, x_test.shape, y_train.shape, y_test.shape"
   ]
  },
  {
   "cell_type": "code",
   "execution_count": 237,
   "metadata": {},
   "outputs": [
    {
     "data": {
      "text/html": [
       "<div>\n",
       "<style scoped>\n",
       "    .dataframe tbody tr th:only-of-type {\n",
       "        vertical-align: middle;\n",
       "    }\n",
       "\n",
       "    .dataframe tbody tr th {\n",
       "        vertical-align: top;\n",
       "    }\n",
       "\n",
       "    .dataframe thead th {\n",
       "        text-align: right;\n",
       "    }\n",
       "</style>\n",
       "<table border=\"1\" class=\"dataframe\">\n",
       "  <thead>\n",
       "    <tr style=\"text-align: right;\">\n",
       "      <th></th>\n",
       "      <th>Company</th>\n",
       "      <th>Product</th>\n",
       "      <th>TypeName</th>\n",
       "      <th>Display</th>\n",
       "      <th>CPU</th>\n",
       "      <th>RAM</th>\n",
       "      <th>Memory</th>\n",
       "      <th>Operating System</th>\n",
       "      <th>Weight</th>\n",
       "      <th>Warranty</th>\n",
       "    </tr>\n",
       "  </thead>\n",
       "  <tbody>\n",
       "    <tr>\n",
       "      <th>0</th>\n",
       "      <td>4</td>\n",
       "      <td>370</td>\n",
       "      <td>4</td>\n",
       "      <td>13</td>\n",
       "      <td>87</td>\n",
       "      <td>4</td>\n",
       "      <td>12</td>\n",
       "      <td>8</td>\n",
       "      <td>37</td>\n",
       "      <td>0</td>\n",
       "    </tr>\n",
       "  </tbody>\n",
       "</table>\n",
       "</div>"
      ],
      "text/plain": [
       "   Company  Product  TypeName  Display  CPU  RAM  Memory  Operating System  \\\n",
       "0        4      370         4       13   87    4      12                 8   \n",
       "\n",
       "   Weight  Warranty  \n",
       "0      37         0  "
      ]
     },
     "execution_count": 237,
     "metadata": {},
     "output_type": "execute_result"
    }
   ],
   "source": [
    "x.head(1)"
   ]
  },
  {
   "cell_type": "markdown",
   "metadata": {},
   "source": [
    "### Random Forest Regressor "
   ]
  },
  {
   "cell_type": "markdown",
   "metadata": {},
   "source": [
    "#### Train model"
   ]
  },
  {
   "cell_type": "code",
   "execution_count": 238,
   "metadata": {},
   "outputs": [
    {
     "name": "stdout",
     "output_type": "stream",
     "text": [
      "training set =  0.9700296214581652\n",
      "Testing set =  0.9659313685091241\n"
     ]
    }
   ],
   "source": [
    "rfr_model =RandomForestRegressor(n_estimators=100, random_state=0)\n",
    "rfr_model.fit(x,y)\n",
    "print(\"training set = \", rfr_model.score(x_train,y_train))\n",
    "print(\"Testing set = \", rfr_model.score(x_test,y_test))"
   ]
  },
  {
   "cell_type": "markdown",
   "metadata": {},
   "source": [
    "#### Model evalulation on testing data"
   ]
  },
  {
   "cell_type": "code",
   "execution_count": 239,
   "metadata": {},
   "outputs": [
    {
     "name": "stdout",
     "output_type": "stream",
     "text": [
      "Random Forest MAE:  83.8749663841442\n",
      "Random Forest MSE:  19389.168148911886\n",
      "Random Forest RMSE:  139.24499326335538\n",
      "Random Forest R2:  0.9659313685091241\n"
     ]
    }
   ],
   "source": [
    "rfr_predict = rfr_model.predict(x_test)\n",
    "rfr_MAE = mean_absolute_error(y_test, rfr_predict) \n",
    "rfr_MSE = mean_squared_error(y_test, rfr_predict) \n",
    "rfr_RMSE = np.sqrt(rfr_MSE) #rfr_rmse\n",
    "rfr_accuracy= r2_score(y_test, rfr_predict)\n",
    "print('Random Forest MAE: ', rfr_MAE)\n",
    "print('Random Forest MSE: ', rfr_MSE)\n",
    "print('Random Forest RMSE: ', rfr_RMSE)\n",
    "print(\"Random Forest R2: \",rfr_accuracy)"
   ]
  },
  {
   "cell_type": "code",
   "execution_count": 240,
   "metadata": {},
   "outputs": [
    {
     "data": {
      "image/png": "[encoded data removed]",
      "text/plain": [
       "<Figure size 720x288 with 1 Axes>"
      ]
     },
     "metadata": {
      "needs_background": "light"
     },
     "output_type": "display_data"
    }
   ],
   "source": [
    "plt.figure(figsize=(10,4))\n",
    "plt.title('Random Forest')\n",
    "plt.scatter(y_test, rfr_predict)\n",
    "plt.xlabel(\"True Values\")\n",
    "plt.ylabel(\"Predicted Values\");"
   ]
  },
  {
   "cell_type": "code",
   "execution_count": 241,
   "metadata": {},
   "outputs": [
    {
     "data": {
      "text/html": [
       "<div>\n",
       "<style scoped>\n",
       "    .dataframe tbody tr th:only-of-type {\n",
       "        vertical-align: middle;\n",
       "    }\n",
       "\n",
       "    .dataframe tbody tr th {\n",
       "        vertical-align: top;\n",
       "    }\n",
       "\n",
       "    .dataframe thead th {\n",
       "        text-align: right;\n",
       "    }\n",
       "</style>\n",
       "<table border=\"1\" class=\"dataframe\">\n",
       "  <thead>\n",
       "    <tr style=\"text-align: right;\">\n",
       "      <th></th>\n",
       "      <th>Feature Importance</th>\n",
       "    </tr>\n",
       "  </thead>\n",
       "  <tbody>\n",
       "    <tr>\n",
       "      <th>RAM</th>\n",
       "      <td>0.459986</td>\n",
       "    </tr>\n",
       "    <tr>\n",
       "      <th>Weight</th>\n",
       "      <td>0.118541</td>\n",
       "    </tr>\n",
       "    <tr>\n",
       "      <th>Product</th>\n",
       "      <td>0.112920</td>\n",
       "    </tr>\n",
       "    <tr>\n",
       "      <th>CPU</th>\n",
       "      <td>0.088912</td>\n",
       "    </tr>\n",
       "    <tr>\n",
       "      <th>Operating System</th>\n",
       "      <td>0.058137</td>\n",
       "    </tr>\n",
       "  </tbody>\n",
       "</table>\n",
       "</div>"
      ],
      "text/plain": [
       "                  Feature Importance\n",
       "RAM                         0.459986\n",
       "Weight                      0.118541\n",
       "Product                     0.112920\n",
       "CPU                         0.088912\n",
       "Operating System            0.058137"
      ]
     },
     "execution_count": 241,
     "metadata": {},
     "output_type": "execute_result"
    }
   ],
   "source": [
    "rfr_model = RandomForestRegressor()\n",
    "rfr_model.fit(x_train,y_train)\n",
    "fi = pd.DataFrame(rfr_model.feature_importances_, index= x.columns)\n",
    "fi.columns=[\"Feature Importance\"]\n",
    "fi.sort_values(by=\"Feature Importance\", ascending=False).head()\n"
   ]
  },
  {
   "cell_type": "markdown",
   "metadata": {},
   "source": [
    "### scaler "
   ]
  },
  {
   "cell_type": "code",
   "execution_count": 242,
   "metadata": {},
   "outputs": [
    {
     "data": {
      "text/plain": [
       "StandardScaler(copy=True, with_mean=True, with_std=True)"
      ]
     },
     "execution_count": 242,
     "metadata": {},
     "output_type": "execute_result"
    }
   ],
   "source": [
    "#Standardize our values\n",
    "scaler = StandardScaler()\n",
    "scaler.fit(x_train.values)"
   ]
  },
  {
   "cell_type": "code",
   "execution_count": 243,
   "metadata": {},
   "outputs": [],
   "source": [
    "x_train = scaler.transform(x_train)\n",
    "x_test = scaler.transform(x_test)"
   ]
  },
  {
   "cell_type": "markdown",
   "metadata": {},
   "source": [
    "### Linear Regression"
   ]
  },
  {
   "cell_type": "markdown",
   "metadata": {},
   "source": [
    "#### Train model "
   ]
  },
  {
   "cell_type": "code",
   "execution_count": 244,
   "metadata": {},
   "outputs": [
    {
     "name": "stdout",
     "output_type": "stream",
     "text": [
      "0.5451650440836313\n",
      "0.5011143126539633\n"
     ]
    }
   ],
   "source": [
    "linRegr_model = LinearRegression()\n",
    "linRegr_model.fit(x_train,y_train)\n",
    "print(linRegr_model.score(x_train,y_train))\n",
    "print(linRegr_model.score(x_test,y_test))"
   ]
  },
  {
   "cell_type": "code",
   "execution_count": 245,
   "metadata": {},
   "outputs": [],
   "source": [
    "predict = linRegr_model.predict(x_test)\n",
    "#predict"
   ]
  },
  {
   "cell_type": "markdown",
   "metadata": {},
   "source": [
    "#### Model evalulation on testing data "
   ]
  },
  {
   "cell_type": "code",
   "execution_count": 246,
   "metadata": {},
   "outputs": [
    {
     "name": "stdout",
     "output_type": "stream",
     "text": [
      "Linear Regression MAE:  361.97386913772266\n",
      "Linear Regression MSE:  283926.2411121018\n",
      "Linear Regression RMSE:  532.8472962417111\n",
      "Linear Regression R2:  0.5011143126539633\n"
     ]
    }
   ],
   "source": [
    "# mean_absolute_error\n",
    "linRegr_MAE = mean_absolute_error(y_test, predict)\n",
    "# mean_squared_error\n",
    "linRegr_MSE = mean_squared_error(y_test, predict)\n",
    "# Root mean squared error\n",
    "linRegr_RMSE = np.sqrt(linRegr_MSE)\n",
    "# r2_score\n",
    "linRegr_accuracy = r2_score(y_test, predict)\n",
    "print('Linear Regression MAE: ',linRegr_MAE)#\n",
    "print('Linear Regression MSE: ',linRegr_MSE)#\n",
    "print('Linear Regression RMSE: ',linRegr_RMSE)#\n",
    "print(\"Linear Regression R2: \", linRegr_accuracy)"
   ]
  },
  {
   "cell_type": "code",
   "execution_count": 247,
   "metadata": {},
   "outputs": [
    {
     "data": {
      "text/plain": [
       "Text(0, 0.5, 'Predicted Values')"
      ]
     },
     "execution_count": 247,
     "metadata": {},
     "output_type": "execute_result"
    },
    {
     "data": {
      "image/png": "[encoded data removed]",
      "text/plain": [
       "<Figure size 720x288 with 1 Axes>"
      ]
     },
     "metadata": {
      "needs_background": "light"
     },
     "output_type": "display_data"
    }
   ],
   "source": [
    "plt.figure(figsize=(10,4))\n",
    "plt.scatter(y_test,predict)\n",
    "plt.title('Linear Regression')\n",
    "plt.xlabel(\"True Values\")\n",
    "plt.ylabel(\"Predicted Values\")"
   ]
  },
  {
   "cell_type": "code",
   "execution_count": 248,
   "metadata": {},
   "outputs": [],
   "source": [
    "#cdf_lr=pd.DataFrame(linRegr_model.coef_,x.columns,columns=['Coeff'])\n",
    "#cdf_lr"
   ]
  },
  {
   "cell_type": "code",
   "execution_count": 249,
   "metadata": {},
   "outputs": [],
   "source": [
    "#df_Final.columns"
   ]
  },
  {
   "cell_type": "code",
   "execution_count": 250,
   "metadata": {},
   "outputs": [],
   "source": [
    "#df_Final = pd.concat([df_Final.drop('Display', axis=1), pd.get_dummies(df_Final['Display'], drop_first=True)], axis=1)"
   ]
  },
  {
   "cell_type": "code",
   "execution_count": 251,
   "metadata": {},
   "outputs": [],
   "source": [
    "#df_Final.head()"
   ]
  },
  {
   "cell_type": "markdown",
   "metadata": {},
   "source": [
    "### LASSO "
   ]
  },
  {
   "cell_type": "code",
   "execution_count": 252,
   "metadata": {},
   "outputs": [
    {
     "data": {
      "text/plain": [
       "Lasso(alpha=100, copy_X=True, fit_intercept=True, max_iter=1000,\n",
       "      normalize=False, positive=False, precompute=False, random_state=None,\n",
       "      selection='cyclic', tol=0.0001, warm_start=False)"
      ]
     },
     "execution_count": 252,
     "metadata": {},
     "output_type": "execute_result"
    }
   ],
   "source": [
    "lasso_model = Lasso(alpha = 100)\n",
    "lasso_model.fit(x_train, y_train)"
   ]
  },
  {
   "cell_type": "code",
   "execution_count": 253,
   "metadata": {},
   "outputs": [
    {
     "data": {
      "text/plain": [
       "[('Company', 0.0),\n",
       " ('Product', 0.0),\n",
       " ('TypeName', -0.0),\n",
       " ('Display', -0.0),\n",
       " ('CPU', 24.993151193024023),\n",
       " ('RAM', 386.98535058399153),\n",
       " ('Memory', 0.0),\n",
       " ('Operating System', 104.88957769092654),\n",
       " ('Weight', -0.0),\n",
       " ('Price-USD', -0.0)]"
      ]
     },
     "execution_count": 253,
     "metadata": {},
     "output_type": "execute_result"
    }
   ],
   "source": [
    "list(zip(df_Final.columns, lasso_model.coef_))"
   ]
  },
  {
   "cell_type": "code",
   "execution_count": 254,
   "metadata": {},
   "outputs": [
    {
     "data": {
      "text/plain": [
       "0.48493056150387936"
      ]
     },
     "execution_count": 254,
     "metadata": {},
     "output_type": "execute_result"
    }
   ],
   "source": [
    "lasso_model.score(x_train, y_train)"
   ]
  },
  {
   "cell_type": "code",
   "execution_count": 255,
   "metadata": {},
   "outputs": [
    {
     "data": {
      "text/plain": [
       "0.4375908674182623"
      ]
     },
     "execution_count": 255,
     "metadata": {},
     "output_type": "execute_result"
    }
   ],
   "source": [
    "lasso_model.score(x_test, y_test)"
   ]
  },
  {
   "cell_type": "markdown",
   "metadata": {},
   "source": [
    "### Ridge"
   ]
  },
  {
   "cell_type": "code",
   "execution_count": 256,
   "metadata": {},
   "outputs": [
    {
     "data": {
      "text/plain": [
       "Ridge(alpha=1000000000000, copy_X=True, fit_intercept=True, max_iter=None,\n",
       "      normalize=False, random_state=None, solver='auto', tol=0.001)"
      ]
     },
     "execution_count": 256,
     "metadata": {},
     "output_type": "execute_result"
    }
   ],
   "source": [
    "lr_model_ridge = Ridge(alpha =  1000000000000)\n",
    "lr_model_ridge.fit(x_train, y_train)"
   ]
  },
  {
   "cell_type": "code",
   "execution_count": 257,
   "metadata": {},
   "outputs": [
    {
     "data": {
      "text/plain": [
       "[('Company', 5.4951091889630366e-08),\n",
       " ('Product', 1.6989992547036057e-07),\n",
       " ('TypeName', -1.912636791852936e-07),\n",
       " ('Display', 6.52243412816525e-09),\n",
       " ('CPU', 4.196823840114844e-07),\n",
       " ('RAM', 7.200448669778845e-07),\n",
       " ('Memory', 1.62852898581856e-07),\n",
       " ('Operating System', 2.450591678355714e-07),\n",
       " ('Weight', 3.5479234574410865e-08),\n",
       " ('Price-USD', -1.1128871864537723e-07)]"
      ]
     },
     "execution_count": 257,
     "metadata": {},
     "output_type": "execute_result"
    }
   ],
   "source": [
    "list(zip(df_Final.columns, lr_model_ridge.coef_))"
   ]
  },
  {
   "cell_type": "markdown",
   "metadata": {},
   "source": [
    "### Tuning Alpha in Ridge and Lasso "
   ]
  },
  {
   "cell_type": "code",
   "execution_count": 258,
   "metadata": {},
   "outputs": [],
   "source": [
    "from sklearn.model_selection import GridSearchCV"
   ]
  },
  {
   "cell_type": "code",
   "execution_count": 259,
   "metadata": {},
   "outputs": [],
   "source": [
    "lasso_params = {'alpha':[0.02, 0.024, 0.025, 0.026, 0.03]}\n",
    "ridge_params = {'alpha':[200, 230, 250,265, 270, 275, 290, 300, 500]}"
   ]
  },
  {
   "cell_type": "code",
   "execution_count": 260,
   "metadata": {},
   "outputs": [],
   "source": [
    "lasso_grid = GridSearchCV(Lasso(), param_grid=lasso_params).fit(x_train, y_train)"
   ]
  },
  {
   "cell_type": "code",
   "execution_count": 261,
   "metadata": {},
   "outputs": [
    {
     "data": {
      "text/plain": [
       "Lasso(alpha=0.03, copy_X=True, fit_intercept=True, max_iter=1000,\n",
       "      normalize=False, positive=False, precompute=False, random_state=None,\n",
       "      selection='cyclic', tol=0.0001, warm_start=False)"
      ]
     },
     "execution_count": 261,
     "metadata": {},
     "output_type": "execute_result"
    }
   ],
   "source": [
    "lasso_grid.best_estimator_"
   ]
  },
  {
   "cell_type": "code",
   "execution_count": 262,
   "metadata": {},
   "outputs": [
    {
     "data": {
      "text/plain": [
       "0.535891256303848"
      ]
     },
     "execution_count": 262,
     "metadata": {},
     "output_type": "execute_result"
    }
   ],
   "source": [
    "lasso_grid.best_score_"
   ]
  },
  {
   "cell_type": "code",
   "execution_count": 263,
   "metadata": {},
   "outputs": [],
   "source": [
    "ridge_grid = GridSearchCV(Ridge(), param_grid=ridge_params).fit(x_train, y_train)"
   ]
  },
  {
   "cell_type": "code",
   "execution_count": 264,
   "metadata": {},
   "outputs": [
    {
     "data": {
      "text/plain": [
       "Ridge(alpha=200, copy_X=True, fit_intercept=True, max_iter=None,\n",
       "      normalize=False, random_state=None, solver='auto', tol=0.001)"
      ]
     },
     "execution_count": 264,
     "metadata": {},
     "output_type": "execute_result"
    }
   ],
   "source": [
    "ridge_grid.best_estimator_"
   ]
  },
  {
   "cell_type": "code",
   "execution_count": 265,
   "metadata": {},
   "outputs": [
    {
     "data": {
      "text/plain": [
       "0.5275530228265073"
      ]
     },
     "execution_count": 265,
     "metadata": {},
     "output_type": "execute_result"
    }
   ],
   "source": [
    "ridge_grid.best_score_"
   ]
  },
  {
   "cell_type": "markdown",
   "metadata": {},
   "source": [
    "## Feature Engineering\n",
    "### Exploration 1:"
   ]
  },
  {
   "cell_type": "code",
   "execution_count": 266,
   "metadata": {},
   "outputs": [],
   "source": [
    "X = df_Final.loc[:,['Company', 'Display', 'RAM', 'Memory']]\n",
    "y = df_Final['Price-USD']"
   ]
  },
  {
   "cell_type": "code",
   "execution_count": 267,
   "metadata": {},
   "outputs": [],
   "source": [
    "# linRegr_model\n",
    "def split_and_validate(X, y):\n",
    "    '''\n",
    "    For a set of features and target X, y, perform a 80/20 train/val split, \n",
    "    fit and validate a linear regression model, and report results\n",
    "    '''\n",
    "    \n",
    "    # perform train/val split\n",
    "    X_train, X_val, y_train, y_val = \\\n",
    "        train_test_split(X, y, test_size=0.2, random_state=42)\n",
    "    \n",
    "    # fit linear regression to training data\n",
    "    linRegr_model = LinearRegression()\n",
    "    linRegr_model.fit(X_train, y_train)\n",
    "    train_score = linRegr_model.score(X_train, y_train)\n",
    "    # score fit model on validation data\n",
    "    val_score = linRegr_model.score(X_val, y_val)\n",
    "    \n",
    "    # report results\n",
    "    print('\\nTrain R^2 score was:', train_score)\n",
    "    print('\\nValidation R^2 score was:', val_score)\n",
    "    print('Feature coefficient results: \\n')\n",
    "    for feature, coef in zip(X.columns, linRegr_model.coef_):\n",
    "        print(feature, ':', f'{coef:.2f}')"
   ]
  },
  {
   "cell_type": "code",
   "execution_count": 268,
   "metadata": {},
   "outputs": [
    {
     "name": "stdout",
     "output_type": "stream",
     "text": [
      "\n",
      "Train R^2 score was: 0.4486394461719989\n",
      "\n",
      "Validation R^2 score was: 0.384749050284939\n",
      "Feature coefficient results: \n",
      "\n",
      "Company : 1.57\n",
      "Display : -5.87\n",
      "RAM : 331.85\n",
      "Memory : 6.63\n"
     ]
    }
   ],
   "source": [
    "split_and_validate(X, y)"
   ]
  },
  {
   "cell_type": "markdown",
   "metadata": {},
   "source": [
    "### Exploration 2:  Polynomial Feature "
   ]
  },
  {
   "cell_type": "code",
   "execution_count": 269,
   "metadata": {},
   "outputs": [
    {
     "name": "stdout",
     "output_type": "stream",
     "text": [
      "\n",
      "Train R^2 score was: 0.5687885440453\n",
      "\n",
      "Validation R^2 score was: 0.5352183642512607\n",
      "Feature coefficient results: \n",
      "\n",
      "Company : 2.80\n",
      "Product : 0.24\n",
      "TypeName : 7.06\n",
      "Display : -6.15\n",
      "CPU : 3.26\n",
      "RAM : -28.07\n",
      "Memory : 1.23\n",
      "Operating System : 54.10\n",
      "Weight : -0.93\n",
      "Warranty : -19.30\n",
      "OQ2 : 42.79\n",
      "GLA2 : 0.00\n"
     ]
    }
   ],
   "source": [
    "X2 = x.copy()\n",
    "X2['OQ2'] = X2['RAM'] ** 2\n",
    "X2['GLA2'] = X2['CPU'] ** 2\n",
    "split_and_validate(X2, y)"
   ]
  },
  {
   "cell_type": "markdown",
   "metadata": {},
   "source": [
    "### Exploration 3: adding interaction terms "
   ]
  },
  {
   "cell_type": "code",
   "execution_count": 270,
   "metadata": {},
   "outputs": [
    {
     "name": "stdout",
     "output_type": "stream",
     "text": [
      "\n",
      "Train R^2 score was: 0.5713394630656685\n",
      "\n",
      "Validation R^2 score was: 0.5371390438619619\n",
      "Feature coefficient results: \n",
      "\n",
      "Company : 3.63\n",
      "Product : -0.13\n",
      "TypeName : -36.60\n",
      "Display : -5.73\n",
      "CPU : 3.47\n",
      "RAM : -28.03\n",
      "Memory : 1.20\n",
      "Operating System : 52.25\n",
      "Weight : -1.21\n",
      "Warranty : -11.21\n",
      "OQ2 : 42.54\n",
      "GLA2 : -0.00\n",
      "OQ_x_YB : 0.10\n"
     ]
    }
   ],
   "source": [
    "x3 = X2.copy() #X3== x2, X2== x\n",
    "\n",
    "# multiplicative interaction\n",
    "x3['OQ_x_YB'] = x3['Product'] * x3['TypeName']\n",
    "\n",
    "# division interaction\n",
    "#x3['OQ_/_LA'] = x3['Product'] / x3['CPU']\n",
    "\n",
    "split_and_validate(x3, y)\n"
   ]
  },
  {
   "cell_type": "markdown",
   "metadata": {},
   "source": [
    "### Comparison of the performance of the models "
   ]
  },
  {
   "cell_type": "code",
   "execution_count": 271,
   "metadata": {},
   "outputs": [
    {
     "name": "stdout",
     "output_type": "stream",
     "text": [
      "Linear Model  Trained\n",
      "Random Forest Regressor  Trained\n"
     ]
    }
   ],
   "source": [
    "models = {\"Linear Model\":LinearRegression(),\n",
    "         \"Random Forest Regressor\":RandomForestRegressor()}\n",
    "\n",
    "for key,value in models.items():\n",
    "    value.fit(x_train,y_train)\n",
    "    print(key,\" Trained\")"
   ]
  },
  {
   "cell_type": "code",
   "execution_count": 272,
   "metadata": {},
   "outputs": [
    {
     "name": "stdout",
     "output_type": "stream",
     "text": [
      "Linear Model  score: 0.5011143126539633\n",
      "Random Forest Regressor  score: 0.72965354856298\n"
     ]
    },
    {
     "data": {
      "image/png": "[encoded data removed]",
      "text/plain": [
       "<Figure size 864x432 with 1 Axes>"
      ]
     },
     "metadata": {
      "needs_background": "light"
     },
     "output_type": "display_data"
    }
   ],
   "source": [
    "mod=[]\n",
    "scores=[]\n",
    "for key,value in models.items():\n",
    "    score = value.score(x_test,y_test)\n",
    "    print(key, \" score: {}\".format(score))\n",
    "    mod.append(key)\n",
    "    scores.append(score)\n",
    "    \n",
    "plt.figure(figsize=(12,6))\n",
    "sns.barplot(x=mod,y=scores,palette=\"Blues\")\n",
    "plt.title(\"Model Performance\",fontdict=title_dict)\n",
    "plt.ylabel(\"R^ Score\",fontdict=label_dict)\n",
    "plt.xlabel(\"Model\",fontdict=label_dict)\n",
    "plt.axhline(np.mean(scores),ls=\"--\",color=\"red\",label=\"Mean R^2\",alpha=0.5)\n",
    "plt.axhline(np.median(scores),ls=\"--\",color=\"black\",label=\"Median R^2\",alpha=0.5)\n",
    "plt.legend();"
   ]
  }
 ],
 "metadata": {
  "kernelspec": {
   "display_name": "Python 3",
   "language": "python",
   "name": "python3"
  },
  "language_info": {
   "codemirror_mode": {
    "name": "ipython",
    "version": 3
   },
   "file_extension": ".py",
   "mimetype": "text/x-python",
   "name": "python",
   "nbconvert_exporter": "python",
   "pygments_lexer": "ipython3",
   "version": "3.7.6"
  }
 },
 "nbformat": 4,
 "nbformat_minor": 4
}
